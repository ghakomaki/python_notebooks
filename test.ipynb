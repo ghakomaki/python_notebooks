{"cells":[{"metadata":{"trusted":true},"cell_type":"code","source":"print(\"hi\")","execution_count":null,"outputs":[]}],"metadata":{},"nbformat":4,"nbformat_minor":1}
